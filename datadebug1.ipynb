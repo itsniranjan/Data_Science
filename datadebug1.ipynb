{
  "nbformat": 4,
  "nbformat_minor": 0,
  "metadata": {
    "colab": {
      "name": "datadebug1.ipynb",
      "provenance": [],
      "collapsed_sections": [],
      "include_colab_link": true
    },
    "kernelspec": {
      "name": "python3",
      "display_name": "Python 3"
    },
    "language_info": {
      "name": "python"
    }
  },
  "cells": [
    {
      "cell_type": "markdown",
      "metadata": {
        "id": "view-in-github",
        "colab_type": "text"
      },
      "source": [
        "<a href=\"https://colab.research.google.com/github/itsniranjan/Data_Science/blob/main/datadebug1.ipynb\" target=\"_parent\"><img src=\"https://colab.research.google.com/assets/colab-badge.svg\" alt=\"Open In Colab\"/></a>"
      ]
    },
    {
      "cell_type": "markdown",
      "metadata": {
        "id": "npikERPb3-6k"
      },
      "source": [
        "# **Problem** **Statement**\n",
        "\n",
        "---\n",
        "\n",
        "\n",
        "\n",
        "**Harry** is a history student and an aspiring archaeologist, his teacher is a prominent archaeologist. During one of his teacher's recent ventures in England, he found a set of old books which had detailed information regarding the people affected by the swife flu in the 1500s, and the number of deaths in six provinces for each week, collected over the course of 24 weeks. Harry's teacher assigned some duties to Harry as his final year assignment. He was supposed to do the following things, however Harry is no data science expert, so he has resorted to the help of one of his best friends, which is you. You are supposed to help Harry with his final year assignment by answering the questions and plotting the graphs his teacher requested.\n",
        " \n",
        "Note: The dataset needs to be cleaned to not have any formatting errors, datatype errors, missing data, or non-sensical data entries before performing operations upon.\n",
        "\n",
        "Link to Dataset: https://github.com/marahim20/DataDebug2021/blob/main/DATAdebug.csv\n",
        "\n",
        "The given data of Old England is divided into 6 provinces, Harry's teacher wants this data incorporated in the dataset. Names of those provinces and their corresponding pin codes range are given below:\n",
        "\n",
        "1.   Durmstrang     : E06000001-E06000060\n",
        "2.   Hogwarts       : E07000008-E07000246\n",
        "3.   Hogsmeade      : E08000001-E08000037\n",
        "4.   Nurmengard     : E09000001-E09000033\n",
        "5.   Azkaban        : W06000001-W06000024\n",
        "6.   Godirc's Hollow: W11000023-W11000031\n"
      ]
    },
    {
      "cell_type": "code",
      "metadata": {
        "id": "Fw1XsOer-RsZ",
        "colab": {
          "base_uri": "https://localhost:8080/",
          "height": 493
        },
        "outputId": "3e1ba66a-5614-4bb9-fd42-d4e7b763ea01"
      },
      "source": [
        "#Your Code here\n",
        "import itertools\n",
        "import numpy as np\n",
        "import pandas as pd\n",
        "import matplotlib.pyplot as plt\n",
        "url = 'https://raw.githubusercontent.com/marahim20/DataDebug2021/main/DATAdebug.csv'\n",
        "df = pd.read_csv(url)\n",
        "df1= df.dropna()\n",
        "df1['Death Count'].replace({\"nil\":\"0\"},inplace=True)\n",
        "df1['Week'].replace({\"One\":\"1\", \"one\":\"1\",\"two\":\"0\",\"Two\":\"0\"},inplace=True)\n",
        "df1[\"Week\"] =pd.to_numeric(df1[\"Week\"])\n",
        "df1[\"Death Count\"] =pd.to_numeric(df1[\"Death Count\"])\n",
        "df1.head()"
      ],
      "execution_count": null,
      "outputs": [
        {
          "output_type": "stream",
          "text": [
            "/usr/local/lib/python3.7/dist-packages/pandas/core/series.py:4582: SettingWithCopyWarning: \n",
            "A value is trying to be set on a copy of a slice from a DataFrame\n",
            "\n",
            "See the caveats in the documentation: https://pandas.pydata.org/pandas-docs/stable/user_guide/indexing.html#returning-a-view-versus-a-copy\n",
            "  method=method,\n",
            "/usr/local/lib/python3.7/dist-packages/ipykernel_launcher.py:11: SettingWithCopyWarning: \n",
            "A value is trying to be set on a copy of a slice from a DataFrame.\n",
            "Try using .loc[row_indexer,col_indexer] = value instead\n",
            "\n",
            "See the caveats in the documentation: https://pandas.pydata.org/pandas-docs/stable/user_guide/indexing.html#returning-a-view-versus-a-copy\n",
            "  # This is added back by InteractiveShellApp.init_path()\n",
            "/usr/local/lib/python3.7/dist-packages/ipykernel_launcher.py:12: SettingWithCopyWarning: \n",
            "A value is trying to be set on a copy of a slice from a DataFrame.\n",
            "Try using .loc[row_indexer,col_indexer] = value instead\n",
            "\n",
            "See the caveats in the documentation: https://pandas.pydata.org/pandas-docs/stable/user_guide/indexing.html#returning-a-view-versus-a-copy\n",
            "  if sys.path[0] == '':\n"
          ],
          "name": "stderr"
        },
        {
          "output_type": "execute_result",
          "data": {
            "text/html": [
              "<div>\n",
              "<style scoped>\n",
              "    .dataframe tbody tr th:only-of-type {\n",
              "        vertical-align: middle;\n",
              "    }\n",
              "\n",
              "    .dataframe tbody tr th {\n",
              "        vertical-align: top;\n",
              "    }\n",
              "\n",
              "    .dataframe thead th {\n",
              "        text-align: right;\n",
              "    }\n",
              "</style>\n",
              "<table border=\"1\" class=\"dataframe\">\n",
              "  <thead>\n",
              "    <tr style=\"text-align: right;\">\n",
              "      <th></th>\n",
              "      <th>PIN Code</th>\n",
              "      <th>Geography type</th>\n",
              "      <th>Area name</th>\n",
              "      <th>Cause of death</th>\n",
              "      <th>Week</th>\n",
              "      <th>Place of death</th>\n",
              "      <th>Death Count</th>\n",
              "    </tr>\n",
              "  </thead>\n",
              "  <tbody>\n",
              "    <tr>\n",
              "      <th>0</th>\n",
              "      <td>E06000001</td>\n",
              "      <td>Local Authority</td>\n",
              "      <td>Hartlepool</td>\n",
              "      <td>Other Causes</td>\n",
              "      <td>1</td>\n",
              "      <td>Nursing home</td>\n",
              "      <td>3</td>\n",
              "    </tr>\n",
              "    <tr>\n",
              "      <th>1</th>\n",
              "      <td>E06000001</td>\n",
              "      <td>Local Authority</td>\n",
              "      <td>Hartlepool</td>\n",
              "      <td>Other Causes</td>\n",
              "      <td>1</td>\n",
              "      <td>Elsewhere</td>\n",
              "      <td>0</td>\n",
              "    </tr>\n",
              "    <tr>\n",
              "      <th>2</th>\n",
              "      <td>E06000001</td>\n",
              "      <td>Local Authority</td>\n",
              "      <td>Hartlepool</td>\n",
              "      <td>Other Causes</td>\n",
              "      <td>1</td>\n",
              "      <td>Home</td>\n",
              "      <td>7</td>\n",
              "    </tr>\n",
              "    <tr>\n",
              "      <th>3</th>\n",
              "      <td>E06000001</td>\n",
              "      <td>Local Authority</td>\n",
              "      <td>Hartlepool</td>\n",
              "      <td>Other Causes</td>\n",
              "      <td>1</td>\n",
              "      <td>Hospice</td>\n",
              "      <td>1</td>\n",
              "    </tr>\n",
              "    <tr>\n",
              "      <th>5</th>\n",
              "      <td>E06000001</td>\n",
              "      <td>Local Authority</td>\n",
              "      <td>Hartlepool</td>\n",
              "      <td>Other Causes</td>\n",
              "      <td>1</td>\n",
              "      <td>Hospital</td>\n",
              "      <td>14</td>\n",
              "    </tr>\n",
              "  </tbody>\n",
              "</table>\n",
              "</div>"
            ],
            "text/plain": [
              "    PIN Code   Geography type   Area name  ... Week  Place of death Death Count\n",
              "0  E06000001  Local Authority  Hartlepool  ...    1    Nursing home           3\n",
              "1  E06000001  Local Authority  Hartlepool  ...    1       Elsewhere           0\n",
              "2  E06000001  Local Authority  Hartlepool  ...    1            Home           7\n",
              "3  E06000001  Local Authority  Hartlepool  ...    1         Hospice           1\n",
              "5  E06000001  Local Authority  Hartlepool  ...    1        Hospital          14\n",
              "\n",
              "[5 rows x 7 columns]"
            ]
          },
          "metadata": {
            "tags": []
          },
          "execution_count": 81
        }
      ]
    },
    {
      "cell_type": "code",
      "metadata": {
        "colab": {
          "base_uri": "https://localhost:8080/"
        },
        "id": "nolr8ePIJRyx",
        "outputId": "f981023e-add3-4347-fe13-d4d26e215d68"
      },
      "source": [
        "df1[['PIN Code','Death Count']].groupby(['PIN Code']).sum()\n",
        "provinces=list()\n",
        "for pin in df1['PIN Code']:\n",
        "  if(pin >= 'E06000001' and pin<= 'E06000060'):\n",
        "    provinces.append('Durmstrang')\n",
        "  if(pin >= 'E07000008' and pin<= 'E07000246'):\n",
        "    provinces.append('Hogwarts')\n",
        "  if(pin >= 'E08000001' and pin<= 'E08000037'):\n",
        "    provinces.append('Hogsmeade')\n",
        "  if(pin >= 'E09000001' and pin<= 'E09000033'):\n",
        "    provinces.append('Nurmengard')\n",
        "  if(pin >= 'W06000001' and pin<= 'W06000024'):\n",
        "    provinces.append('Azkaban')\n",
        "  if(pin >= 'W11000023' and pin<= 'W11000031'):\n",
        "    provinces.append('Godirc\\'s Hollow')\n",
        "print(len(provinces))\n",
        "\n",
        "\n",
        "\n",
        "\n",
        "# Durmstrang : E06000001-E06000060\n",
        "# Hogwarts : E07000008-E07000246\n",
        "# Hogsmeade : E08000001-E08000037\n",
        "# Nurmengard : E09000001-E09000033\n",
        "# Azkaban : W06000001-W06000024\n",
        "# Godirc's Hollow: W11000023-W110000"
      ],
      "execution_count": null,
      "outputs": [
        {
          "output_type": "stream",
          "text": [
            "98784\n"
          ],
          "name": "stdout"
        }
      ]
    },
    {
      "cell_type": "code",
      "metadata": {
        "colab": {
          "base_uri": "https://localhost:8080/",
          "height": 306
        },
        "id": "pBJktJxrQWQ6",
        "outputId": "c805f6d9-16a8-4dc5-a66e-0a53ee9b1ee0"
      },
      "source": [
        "p=pd.DataFrame(data={'province':provinces})\n",
        "p['province'].value_counts()\n",
        "df1['province']=p\n",
        "df1.head()"
      ],
      "execution_count": null,
      "outputs": [
        {
          "output_type": "stream",
          "text": [
            "/usr/local/lib/python3.7/dist-packages/ipykernel_launcher.py:3: SettingWithCopyWarning: \n",
            "A value is trying to be set on a copy of a slice from a DataFrame.\n",
            "Try using .loc[row_indexer,col_indexer] = value instead\n",
            "\n",
            "See the caveats in the documentation: https://pandas.pydata.org/pandas-docs/stable/user_guide/indexing.html#returning-a-view-versus-a-copy\n",
            "  This is separate from the ipykernel package so we can avoid doing imports until\n"
          ],
          "name": "stderr"
        },
        {
          "output_type": "execute_result",
          "data": {
            "text/html": [
              "<div>\n",
              "<style scoped>\n",
              "    .dataframe tbody tr th:only-of-type {\n",
              "        vertical-align: middle;\n",
              "    }\n",
              "\n",
              "    .dataframe tbody tr th {\n",
              "        vertical-align: top;\n",
              "    }\n",
              "\n",
              "    .dataframe thead th {\n",
              "        text-align: right;\n",
              "    }\n",
              "</style>\n",
              "<table border=\"1\" class=\"dataframe\">\n",
              "  <thead>\n",
              "    <tr style=\"text-align: right;\">\n",
              "      <th></th>\n",
              "      <th>PIN Code</th>\n",
              "      <th>Geography type</th>\n",
              "      <th>Area name</th>\n",
              "      <th>Cause of death</th>\n",
              "      <th>Week</th>\n",
              "      <th>Place of death</th>\n",
              "      <th>Death Count</th>\n",
              "      <th>province</th>\n",
              "    </tr>\n",
              "  </thead>\n",
              "  <tbody>\n",
              "    <tr>\n",
              "      <th>0</th>\n",
              "      <td>E06000001</td>\n",
              "      <td>Local Authority</td>\n",
              "      <td>Hartlepool</td>\n",
              "      <td>Other Causes</td>\n",
              "      <td>1</td>\n",
              "      <td>Nursing home</td>\n",
              "      <td>3</td>\n",
              "      <td>Durmstrang</td>\n",
              "    </tr>\n",
              "    <tr>\n",
              "      <th>1</th>\n",
              "      <td>E06000001</td>\n",
              "      <td>Local Authority</td>\n",
              "      <td>Hartlepool</td>\n",
              "      <td>Other Causes</td>\n",
              "      <td>1</td>\n",
              "      <td>Elsewhere</td>\n",
              "      <td>0</td>\n",
              "      <td>Durmstrang</td>\n",
              "    </tr>\n",
              "    <tr>\n",
              "      <th>2</th>\n",
              "      <td>E06000001</td>\n",
              "      <td>Local Authority</td>\n",
              "      <td>Hartlepool</td>\n",
              "      <td>Other Causes</td>\n",
              "      <td>1</td>\n",
              "      <td>Home</td>\n",
              "      <td>7</td>\n",
              "      <td>Durmstrang</td>\n",
              "    </tr>\n",
              "    <tr>\n",
              "      <th>3</th>\n",
              "      <td>E06000001</td>\n",
              "      <td>Local Authority</td>\n",
              "      <td>Hartlepool</td>\n",
              "      <td>Other Causes</td>\n",
              "      <td>1</td>\n",
              "      <td>Hospice</td>\n",
              "      <td>1</td>\n",
              "      <td>Durmstrang</td>\n",
              "    </tr>\n",
              "    <tr>\n",
              "      <th>5</th>\n",
              "      <td>E06000001</td>\n",
              "      <td>Local Authority</td>\n",
              "      <td>Hartlepool</td>\n",
              "      <td>Other Causes</td>\n",
              "      <td>1</td>\n",
              "      <td>Hospital</td>\n",
              "      <td>14</td>\n",
              "      <td>Durmstrang</td>\n",
              "    </tr>\n",
              "  </tbody>\n",
              "</table>\n",
              "</div>"
            ],
            "text/plain": [
              "    PIN Code   Geography type  ... Death Count    province\n",
              "0  E06000001  Local Authority  ...           3  Durmstrang\n",
              "1  E06000001  Local Authority  ...           0  Durmstrang\n",
              "2  E06000001  Local Authority  ...           7  Durmstrang\n",
              "3  E06000001  Local Authority  ...           1  Durmstrang\n",
              "5  E06000001  Local Authority  ...          14  Durmstrang\n",
              "\n",
              "[5 rows x 8 columns]"
            ]
          },
          "metadata": {
            "tags": []
          },
          "execution_count": 107
        }
      ]
    },
    {
      "cell_type": "markdown",
      "metadata": {
        "id": "V7L7XEh1ERN6"
      },
      "source": [
        "\n",
        "\n",
        "#  ***Quiz***\n",
        "1. Find the total number of people died during the 24 week period\n"
      ]
    },
    {
      "cell_type": "code",
      "metadata": {
        "id": "fApqsUGUEP8L",
        "colab": {
          "base_uri": "https://localhost:8080/",
          "height": 313
        },
        "outputId": "e1fba293-4769-4957-846d-4cff9fa11b82"
      },
      "source": [
        "#Your Code here\n",
        "print(df1['Death Count'].sum())\n",
        "fig = plt.figure(figsize = (10, 5))\n",
        " \n",
        "# creating the bar plot\n",
        "df1.plot.scatter(x=\"Week\", y=\"Death Count\");"
      ],
      "execution_count": null,
      "outputs": [
        {
          "output_type": "stream",
          "text": [
            "365291\n"
          ],
          "name": "stdout"
        },
        {
          "output_type": "display_data",
          "data": {
            "text/plain": [
              "<Figure size 720x360 with 0 Axes>"
            ]
          },
          "metadata": {
            "tags": []
          }
        },
        {
          "output_type": "display_data",
          "data": {
            "image/png": "[encoded data removed]",
            "text/plain": [
              "<Figure size 432x288 with 1 Axes>"
            ]
          },
          "metadata": {
            "tags": [],
            "needs_background": "light"
          }
        }
      ]
    },
    {
      "cell_type": "code",
      "metadata": {
        "cellView": "form",
        "id": "2G36EL-Tw29W"
      },
      "source": [
        "\n",
        "Answer =   .365291#@param\n",
        "\n"
      ],
      "execution_count": null,
      "outputs": []
    },
    {
      "cell_type": "markdown",
      "metadata": {
        "id": "zOfD3VbsESYh"
      },
      "source": [
        "  2. Find the total number of people who died due to swine flu at hospitals\n",
        "\n"
      ]
    },
    {
      "cell_type": "code",
      "metadata": {
        "id": "NGuA7GIrESoI",
        "colab": {
          "base_uri": "https://localhost:8080/",
          "height": 418
        },
        "outputId": "78cf6d4d-f050-4f72-da8e-b61ce9be144c"
      },
      "source": [
        "#Your Code here\n",
        "plt.hist(df1['Cause of death'])\n",
        "df1[df1['Cause of death']=='Swine Flu'].count()\n",
        "# df2=df1[df1['Cause of death'].isin(['Swine Flu'])]\n",
        "# df2['Death Count'].sum()"
      ],
      "execution_count": null,
      "outputs": [
        {
          "output_type": "execute_result",
          "data": {
            "text/plain": [
              "PIN Code          49392\n",
              "Geography type    49392\n",
              "Area name         49392\n",
              "Cause of death    49392\n",
              "Week              49392\n",
              "Place of death    49392\n",
              "Death Count       49392\n",
              "province          49386\n",
              "dtype: int64"
            ]
          },
          "metadata": {
            "tags": []
          },
          "execution_count": 110
        },
        {
          "output_type": "display_data",
          "data": {
            "image/png": "[encoded data removed]",
            "text/plain": [
              "<Figure size 432x288 with 1 Axes>"
            ]
          },
          "metadata": {
            "tags": [],
            "needs_background": "light"
          }
        }
      ]
    },
    {
      "cell_type": "code",
      "metadata": {
        "cellView": "form",
        "id": "iVa1QChnxU-m"
      },
      "source": [
        "Answer =   49392#@param"
      ],
      "execution_count": null,
      "outputs": []
    },
    {
      "cell_type": "markdown",
      "metadata": {
        "id": "9rnlgQnaESxL"
      },
      "source": [
        "3. Find the name of the area where the most number of people died due to causes other than swine flu"
      ]
    },
    {
      "cell_type": "code",
      "metadata": {
        "id": "lT1oqY1YES5q",
        "colab": {
          "base_uri": "https://localhost:8080/",
          "height": 35
        },
        "outputId": "12402d37-b063-4f34-f68a-0d3c0932fa2e"
      },
      "source": [
        "#Your Code here\n",
        "df3=df1[df1['Cause of death']!='Swine Flu']\n",
        "df3['Area name'].value_counts().idxmax()"
      ],
      "execution_count": null,
      "outputs": [
        {
          "output_type": "execute_result",
          "data": {
            "application/vnd.google.colaboratory.intrinsic+json": {
              "type": "string"
            },
            "text/plain": [
              "'Liverpool'"
            ]
          },
          "metadata": {
            "tags": []
          },
          "execution_count": 112
        }
      ]
    },
    {
      "cell_type": "code",
      "metadata": {
        "cellView": "form",
        "id": "zEjBIorGxi2P"
      },
      "source": [
        "Answer =   'Liverpool'#@param"
      ],
      "execution_count": null,
      "outputs": []
    },
    {
      "cell_type": "markdown",
      "metadata": {
        "id": "-mXn0hrtFJEF"
      },
      "source": [
        "4. Find the name of the province with most number of deaths"
      ]
    },
    {
      "cell_type": "code",
      "metadata": {
        "id": "C6hYx-9rFKEZ",
        "colab": {
          "base_uri": "https://localhost:8080/",
          "height": 266
        },
        "outputId": "14dc10e3-6f24-4fec-cfaa-a2fd1af43811"
      },
      "source": [
        "df3=df1[['province','Death Count']]\n",
        "df3.groupby(['province']).sum()"
      ],
      "execution_count": null,
      "outputs": [
        {
          "output_type": "execute_result",
          "data": {
            "text/html": [
              "<div>\n",
              "<style scoped>\n",
              "    .dataframe tbody tr th:only-of-type {\n",
              "        vertical-align: middle;\n",
              "    }\n",
              "\n",
              "    .dataframe tbody tr th {\n",
              "        vertical-align: top;\n",
              "    }\n",
              "\n",
              "    .dataframe thead th {\n",
              "        text-align: right;\n",
              "    }\n",
              "</style>\n",
              "<table border=\"1\" class=\"dataframe\">\n",
              "  <thead>\n",
              "    <tr style=\"text-align: right;\">\n",
              "      <th></th>\n",
              "      <th>Death Count</th>\n",
              "    </tr>\n",
              "    <tr>\n",
              "      <th>province</th>\n",
              "      <th></th>\n",
              "    </tr>\n",
              "  </thead>\n",
              "  <tbody>\n",
              "    <tr>\n",
              "      <th>Azkaban</th>\n",
              "      <td>20014</td>\n",
              "    </tr>\n",
              "    <tr>\n",
              "      <th>Durmstrang</th>\n",
              "      <td>78761</td>\n",
              "    </tr>\n",
              "    <tr>\n",
              "      <th>Godirc's Hollow</th>\n",
              "      <td>19625</td>\n",
              "    </tr>\n",
              "    <tr>\n",
              "      <th>Hogsmeade</th>\n",
              "      <td>74595</td>\n",
              "    </tr>\n",
              "    <tr>\n",
              "      <th>Hogwarts</th>\n",
              "      <td>132387</td>\n",
              "    </tr>\n",
              "    <tr>\n",
              "      <th>Nurmengard</th>\n",
              "      <td>39874</td>\n",
              "    </tr>\n",
              "  </tbody>\n",
              "</table>\n",
              "</div>"
            ],
            "text/plain": [
              "                 Death Count\n",
              "province                    \n",
              "Azkaban                20014\n",
              "Durmstrang             78761\n",
              "Godirc's Hollow        19625\n",
              "Hogsmeade              74595\n",
              "Hogwarts              132387\n",
              "Nurmengard             39874"
            ]
          },
          "metadata": {
            "tags": []
          },
          "execution_count": 116
        }
      ]
    },
    {
      "cell_type": "code",
      "metadata": {
        "cellView": "form",
        "id": "1UM4tHn4xnHt"
      },
      "source": [
        "Answer =   'Hogwartz'#@param"
      ],
      "execution_count": null,
      "outputs": []
    },
    {
      "cell_type": "markdown",
      "metadata": {
        "id": "5hZ295CmFhK_"
      },
      "source": [
        "#  ***Graphs***\n",
        "  \n",
        "\n",
        "1.   Plot a graph showing the number of people who died of swine flu and the places they died at.\n",
        "\n",
        "\n"
      ]
    },
    {
      "cell_type": "code",
      "metadata": {
        "id": "8brUGb4BFhXV",
        "colab": {
          "base_uri": "https://localhost:8080/",
          "height": 580
        },
        "outputId": "89d5d5f1-4931-4de1-9ed8-96d6fa0640b6"
      },
      "source": [
        "#Your Code here\n",
        "df3=df1[['Place of death','Death Count']]\n",
        "df4=(df3.groupby(['Place of death']).sum().sort_values(by='Death Count', ascending=False))\n",
        "print(df4)\n",
        "df4.plot(kind='bar')"
      ],
      "execution_count": null,
      "outputs": [
        {
          "output_type": "stream",
          "text": [
            "                              Death Count\n",
            "Place of death                           \n",
            "Hospital                           167453\n",
            "Nursing home                        99691\n",
            "Home                                78379\n",
            "Hospice                             13580\n",
            "Elsewhere                            4690\n",
            "Other communal establishment         1498\n"
          ],
          "name": "stdout"
        },
        {
          "output_type": "execute_result",
          "data": {
            "text/plain": [
              "<matplotlib.axes._subplots.AxesSubplot at 0x7fb36a1ce0d0>"
            ]
          },
          "metadata": {
            "tags": []
          },
          "execution_count": 120
        },
        {
          "output_type": "display_data",
          "data": {
            "image/png": "[encoded data removed]",
            "text/plain": [
              "<Figure size 432x288 with 1 Axes>"
            ]
          },
          "metadata": {
            "tags": [],
            "needs_background": "light"
          }
        }
      ]
    },
    {
      "cell_type": "markdown",
      "metadata": {
        "id": "2eQgJby3FhhK"
      },
      "source": [
        "2. Plot a graph showing the death count of areas under local authority and health board.\n",
        "\n"
      ]
    },
    {
      "cell_type": "code",
      "metadata": {
        "id": "x2o09r2NFhq2",
        "colab": {
          "base_uri": "https://localhost:8080/",
          "height": 362
        },
        "outputId": "529ab3a8-8c6b-44a4-e962-d153586f08b2"
      },
      "source": [
        "#Your Code here\n",
        "df1[['Geography type','Death Count']].groupby(['Geography type']).sum().plot(kind='bar')"
      ],
      "execution_count": null,
      "outputs": [
        {
          "output_type": "execute_result",
          "data": {
            "text/plain": [
              "<matplotlib.axes._subplots.AxesSubplot at 0x7fb36a110e50>"
            ]
          },
          "metadata": {
            "tags": []
          },
          "execution_count": 121
        },
        {
          "output_type": "display_data",
          "data": {
            "image/png": "[encoded data removed]",
            "text/plain": [
              "<Figure size 432x288 with 1 Axes>"
            ]
          },
          "metadata": {
            "tags": [],
            "needs_background": "light"
          }
        }
      ]
    },
    {
      "cell_type": "markdown",
      "metadata": {
        "id": "J_PEGohlFhzx"
      },
      "source": [
        "3. Plot a graph to show the trend of the death count every week."
      ]
    },
    {
      "cell_type": "code",
      "metadata": {
        "id": "hFUC3oPiFh7_",
        "colab": {
          "base_uri": "https://localhost:8080/",
          "height": 296
        },
        "outputId": "218dc105-7b81-4596-9e01-d15b74e2d288"
      },
      "source": [
        "#Your Code here\n",
        "df1[['Week','Death Count']].groupby(['Week']).sum().plot()"
      ],
      "execution_count": null,
      "outputs": [
        {
          "output_type": "execute_result",
          "data": {
            "text/plain": [
              "<matplotlib.axes._subplots.AxesSubplot at 0x7fb36a14eb50>"
            ]
          },
          "metadata": {
            "tags": []
          },
          "execution_count": 122
        },
        {
          "output_type": "display_data",
          "data": {
            "image/png": "[encoded data removed]",
            "text/plain": [
              "<Figure size 432x288 with 1 Axes>"
            ]
          },
          "metadata": {
            "tags": [],
            "needs_background": "light"
          }
        }
      ]
    },
    {
      "cell_type": "markdown",
      "metadata": {
        "id": "gTzZODn2Fi7i"
      },
      "source": [
        "4. Plot a graph to show death count per province.\n"
      ]
    },
    {
      "cell_type": "code",
      "metadata": {
        "id": "3o6guzyOFjFj",
        "colab": {
          "base_uri": "https://localhost:8080/",
          "height": 418
        },
        "outputId": "7871de6a-3f3d-4454-f274-838a5d8f892d"
      },
      "source": [
        "#Your Code here\n",
        "df1[['province','Death Count']].groupby(['province']).sum().plot(kind='bar', figsize=(9,5), cmap='cividis')\n",
        "# ‘line’ : line plot (default)\n",
        "# ‘bar’ : vertical bar plot\n",
        "# ‘barh’ : horizontal bar plot\n",
        "# ‘hist’ : histogram\n",
        "# ‘box’ : boxplot\n",
        "# ‘kde’ : Kernel Density Estimation plot\n",
        "# ‘density’ : same as ‘kde’\n",
        "# ‘area’ : area plot\n",
        "# ‘pie’ : pie plot\n",
        "# ‘scatter’ : scatter plot\n",
        "# ‘hexbin’ : hexbin plot"
      ],
      "execution_count": null,
      "outputs": [
        {
          "output_type": "execute_result",
          "data": {
            "text/plain": [
              "<matplotlib.axes._subplots.AxesSubplot at 0x7fb3597cb050>"
            ]
          },
          "metadata": {
            "tags": []
          },
          "execution_count": 140
        },
        {
          "output_type": "display_data",
          "data": {
            "image/png": "[encoded data removed]",
            "text/plain": [
              "<Figure size 648x360 with 1 Axes>"
            ]
          },
          "metadata": {
            "tags": [],
            "needs_background": "light"
          }
        }
      ]
    },
    {
      "cell_type": "code",
      "metadata": {
        "id": "55suaFXfHswA"
      },
      "source": [
        ""
      ],
      "execution_count": null,
      "outputs": []
    }
  ]
}